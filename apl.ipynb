{
 "metadata": {
  "kernelspec": {
   "codemirror_mode": {
    "name": "ipython",
    "version": 2
   },
   "display_name": "IPython (Python 2)",
   "language": "python",
   "name": "python2"
  },
  "language": "Julia",
  "name": "",
  "signature": "sha256:17012875385fffffaa85b8c36e443424ab4ac87b8589fc3405d6a4fc157bc8f6"
 },
 "nbformat": 3,
 "nbformat_minor": 0,
 "worksheets": [
  {
   "cells": [
    {
     "cell_type": "markdown",
     "metadata": {},
     "source": [
      "<img src=\"http://izquotes.com/quotes-pictures/quote-apl-is-a-mistake-carried-through-to-perfection-it-is-the-language-of-the-future-for-the-edsger-dijkstra-224501.jpg\">\n",
      "<img src=\"http://upload.wikimedia.org/wikipedia/en/b/be/I_like_APL_graphic.jpg\">\n",
      " <img src=\"http://upload.wikimedia.org/wikipedia/commons/9/9f/APL-keybd2.svg\" style=\"height:1in\">"
     ]
    },
    {
     "cell_type": "heading",
     "level": 2,
     "metadata": {},
     "source": [
      "I loved APL -- with just a few geeky characters it seemed you could do anything. I stopped using it in 1985, and picked it up again for the first time this weekend (November 2014) seeing it in a new light when I think about Julia."
     ]
    },
    {
     "cell_type": "code",
     "collapsed": false,
     "input": [
      "\u03c1(V)=[size(V)...]\n",
      "\u03b9(n)=[1:n[1]]\n",
      "\u03b9(V,W)=[v\u2208W ? minimum(findin(W,v)) : 1+length(W) for v in V] \n",
      "\u2218(*::Function,V,W)=[v*w for v in V, w in W]\n",
      "\u234b(V)=sortperm(V)\n",
      "\u2193(n,V)=V[n+1:end]\n",
      "\u2349(V)=V.'\n",
      "\u2349(V,P)=permutedims(V,P) #APL allowed repeated elements in P\n",
      "\n",
      "f=(V,n)->(mod(n,V),(n-mod(n,V))/V)\n",
      "\n",
      "# APL encode function generalizes julia's digits\n",
      "function \u22a4(V,state) \n",
      "   z=copy(V)\n",
      "   for i=length(V):-1:1\n",
      "        z[i], state = f(z[i], state)\n",
      "   end\n",
      "   z\n",
      "end\n",
      "\n",
      "\u22a4(V,n::Array)=[[\u22a4(V,nn)' for nn in n]...]'"
     ],
     "language": "python",
     "metadata": {},
     "outputs": [
      {
       "metadata": {},
       "output_type": "pyout",
       "prompt_number": 2,
       "text": [
        "\u22a4 (generic function with 2 methods)"
       ]
      }
     ],
     "prompt_number": 2
    },
    {
     "cell_type": "code",
     "collapsed": false,
     "input": [
      "function encode(V,n)\n",
      "    let n=n\n",
      "    map( v-> (mod(n,v), n-=mod(n,v),n/=v)[1],V)\n",
      "    end\n",
      "    end"
     ],
     "language": "python",
     "metadata": {},
     "outputs": [
      {
       "metadata": {},
       "output_type": "pyout",
       "prompt_number": 15,
       "text": [
        "encode (generic function with 1 method)"
       ]
      }
     ],
     "prompt_number": 15
    },
    {
     "cell_type": "code",
     "collapsed": false,
     "input": [
      "encode([12,3,1760],95)"
     ],
     "language": "python",
     "metadata": {},
     "outputs": [
      {
       "metadata": {},
       "output_type": "pyout",
       "prompt_number": 16,
       "text": [
        "3-element Array{Real,1}:\n",
        " 11  \n",
        "  1.0\n",
        "  2.0"
       ]
      }
     ],
     "prompt_number": 16
    },
    {
     "cell_type": "markdown",
     "metadata": {},
     "source": [
      "Problems taken directly from https://cs.uwaterloo.ca/~shallit/Talks/APL50-talk2.pdf"
     ]
    },
    {
     "cell_type": "code",
     "collapsed": false,
     "input": [
      "# Distinct elements from a list\n",
      "V = [3, 2, 1, 3, 4, 2, 1, 7, 4, 2, 2, 3]\n",
      "X = V[ ( \u03b9(\u03c1(V)).== \u03b9(V,V) ) ]"
     ],
     "language": "python",
     "metadata": {},
     "outputs": [
      {
       "metadata": {},
       "output_type": "pyout",
       "prompt_number": 34,
       "text": [
        "5-element Array{Int64,1}:\n",
        " 3\n",
        " 2\n",
        " 1\n",
        " 4\n",
        " 7"
       ]
      }
     ],
     "prompt_number": 34
    },
    {
     "cell_type": "code",
     "collapsed": false,
     "input": [
      "# Julia\n",
      "unique(V)"
     ],
     "language": "python",
     "metadata": {},
     "outputs": [
      {
       "metadata": {},
       "output_type": "pyout",
       "prompt_number": 35,
       "text": [
        "5-element Array{Int64,1}:\n",
        " 3\n",
        " 2\n",
        " 1\n",
        " 4\n",
        " 7"
       ]
      }
     ],
     "prompt_number": 35
    },
    {
     "cell_type": "code",
     "collapsed": false,
     "input": [
      "# Frequency Distribution\n",
      "[X sum(\u2218(==,X,V),2)]"
     ],
     "language": "python",
     "metadata": {},
     "outputs": [
      {
       "metadata": {},
       "output_type": "pyout",
       "prompt_number": 36,
       "text": [
        "5x2 Array{Int64,2}:\n",
        " 3  3\n",
        " 2  4\n",
        " 1  2\n",
        " 4  2\n",
        " 7  1"
       ]
      }
     ],
     "prompt_number": 36
    },
    {
     "cell_type": "code",
     "collapsed": false,
     "input": [
      "\u22a4([16,16,16],[877,123,43])"
     ],
     "language": "python",
     "metadata": {},
     "outputs": [
      {
       "metadata": {},
       "output_type": "pyout",
       "prompt_number": 3,
       "text": [
        "3x3 Array{Int64,2}:\n",
        "  3   0   0\n",
        "  6   7   2\n",
        " 13  11  11"
       ]
      }
     ],
     "prompt_number": 3
    },
    {
     "cell_type": "code",
     "collapsed": false,
     "input": [
      "\u22a4([1760,3,12],95)  # 95 inches = 2 yards, 1 foot, 11 inches"
     ],
     "language": "python",
     "metadata": {},
     "outputs": [
      {
       "metadata": {},
       "output_type": "pyout",
       "prompt_number": 38,
       "text": [
        "3-element Array{Int64,1}:\n",
        "  2\n",
        "  1\n",
        " 11"
       ]
      }
     ],
     "prompt_number": 38
    },
    {
     "cell_type": "code",
     "collapsed": false,
     "input": [
      "P=[2, 3, 7] # List of primes\n",
      "E=[2, 1, 2] # List of exponents\n",
      "prod(P.^E) "
     ],
     "language": "python",
     "metadata": {},
     "outputs": [
      {
       "metadata": {},
       "output_type": "pyout",
       "prompt_number": 39,
       "text": [
        "588"
       ]
      }
     ],
     "prompt_number": 39
    },
    {
     "cell_type": "code",
     "collapsed": false,
     "input": [
      "prod(E+1) # Number of divisors"
     ],
     "language": "python",
     "metadata": {},
     "outputs": [
      {
       "metadata": {},
       "output_type": "pyout",
       "prompt_number": 40,
       "text": [
        "18"
       ]
      }
     ],
     "prompt_number": 40
    },
    {
     "cell_type": "code",
     "collapsed": false,
     "input": [
      "# List of divisors\n",
      "prod(P.^\u22a4(E+1 ,[-1+\u03b9(prod(E+1))] ),1)"
     ],
     "language": "python",
     "metadata": {},
     "outputs": [
      {
       "metadata": {},
       "output_type": "pyout",
       "prompt_number": 41,
       "text": [
        "1x18 Array{Int64,2}:\n",
        " 1  7  49  3  21  147  2  14  98  6  42  294  4  28  196  12  84  588"
       ]
      }
     ],
     "prompt_number": 41
    },
    {
     "cell_type": "code",
     "collapsed": false,
     "input": [
      "# Julia: list of divisors\n",
      "d=Int64[]\n",
      "for i1 in 0:E[1], i2 in 0:E[2], i3 in 0:E[3] \n",
      "    push!(d,prod(P.^[i1, i2, i3]))\n",
      "end\n",
      "d'"
     ],
     "language": "python",
     "metadata": {},
     "outputs": [
      {
       "metadata": {},
       "output_type": "pyout",
       "prompt_number": 42,
       "text": [
        "1x18 Array{Int64,2}:\n",
        " 1  7  49  3  21  147  2  14  98  6  42  294  4  28  196  12  84  588"
       ]
      }
     ],
     "prompt_number": 42
    },
    {
     "cell_type": "code",
     "collapsed": false,
     "input": [
      "\u234b([13, 8, 122, 4 ])"
     ],
     "language": "python",
     "metadata": {},
     "outputs": [
      {
       "metadata": {},
       "output_type": "pyout",
       "prompt_number": 43,
       "text": [
        "4-element Array{Int64,1}:\n",
        " 4\n",
        " 2\n",
        " 1\n",
        " 3"
       ]
      }
     ],
     "prompt_number": 43
    },
    {
     "cell_type": "code",
     "collapsed": false,
     "input": [
      "# Distributing elements along diagonals\n",
      "reshape(\u234b(\u234b(\u2218(+,\u03b9(6),\u03b9(5))[:])),6,5)'"
     ],
     "language": "python",
     "metadata": {},
     "outputs": [
      {
       "metadata": {},
       "output_type": "pyout",
       "prompt_number": 44,
       "text": [
        "5x6 Array{Int64,2}:\n",
        "  1   2   4   7  11  16\n",
        "  3   5   8  12  17  21\n",
        "  6   9  13  18  22  25\n",
        " 10  14  19  23  26  28\n",
        " 15  20  24  27  29  30"
       ]
      }
     ],
     "prompt_number": 44
    },
    {
     "cell_type": "code",
     "collapsed": false,
     "input": [
      "# Julia (nothing fancy)\n",
      "z=zeros(Int64,5,6)\n",
      "c=0\n",
      "for d=1:5, i=1:d z[i,d+1-i]=c+=1 end\n",
      "c=31\n",
      "for d=1:5, i=1:d z[6-i,6-d+i]=c-=1 end\n",
      "z"
     ],
     "language": "python",
     "metadata": {},
     "outputs": [
      {
       "metadata": {},
       "output_type": "pyout",
       "prompt_number": 45,
       "text": [
        "5x6 Array{Int64,2}:\n",
        "  1   2   4   7  11  16\n",
        "  3   5   8  12  17  21\n",
        "  6   9  13  18  22  25\n",
        " 10  14  19  23  26  28\n",
        " 15  20  24  27  29  30"
       ]
      }
     ],
     "prompt_number": 45
    },
    {
     "cell_type": "code",
     "collapsed": false,
     "input": [
      "# Guess Linear Recurrence\n",
      "V=[1,2,3,5,8,13,21,34]\n",
      "V[\u2218(+ ,\u03b9(\u03c1(V)-2), \u03b9(2)-1)] \\ \u2193(2,V)"
     ],
     "language": "python",
     "metadata": {},
     "outputs": [
      {
       "metadata": {},
       "output_type": "pyout",
       "prompt_number": 46,
       "text": [
        "2-element Array{Float64,1}:\n",
        " 1.0\n",
        " 1.0"
       ]
      }
     ],
     "prompt_number": 46
    },
    {
     "cell_type": "code",
     "collapsed": false,
     "input": [
      "# Julia\n",
      "[V[1:end-2] V[2:end-1]]\\V[3:end]"
     ],
     "language": "python",
     "metadata": {},
     "outputs": [
      {
       "metadata": {},
       "output_type": "pyout",
       "prompt_number": 47,
       "text": [
        "2-element Array{Float64,1}:\n",
        " 1.0\n",
        " 1.0"
       ]
      }
     ],
     "prompt_number": 47
    },
    {
     "cell_type": "code",
     "collapsed": false,
     "input": [
      "W =[3,7,20,79,310,1201]\n",
      "W[\u2218(+ ,\u03b9(\u03c1(W)-3), \u03b9(3)-1)] \\ \u2193(3,W)"
     ],
     "language": "python",
     "metadata": {},
     "outputs": [
      {
       "metadata": {},
       "output_type": "pyout",
       "prompt_number": 48,
       "text": [
        "3-element Array{Float64,1}:\n",
        "  2.0\n",
        " -1.0\n",
        "  4.0"
       ]
      }
     ],
     "prompt_number": 48
    },
    {
     "cell_type": "code",
     "collapsed": false,
     "input": [
      "# Julia\n",
      "[W[1:end-3] W[2:end-2] W[3:end-1]]\\W[4:end]"
     ],
     "language": "python",
     "metadata": {},
     "outputs": [
      {
       "metadata": {},
       "output_type": "pyout",
       "prompt_number": 49,
       "text": [
        "3-element Array{Float64,1}:\n",
        "  2.0\n",
        " -1.0\n",
        "  4.0"
       ]
      }
     ],
     "prompt_number": 49
    },
    {
     "cell_type": "code",
     "collapsed": false,
     "input": [
      "Y=[1900,1962,2000,2012]\n",
      "\n",
      "# Determining Leap Years\n",
      "[reduce(!=,(0.==\u2218(mod,Y,[4,100,400]))[i,:]) for i=1:4 ]"
     ],
     "language": "python",
     "metadata": {},
     "outputs": [
      {
       "metadata": {},
       "output_type": "pyout",
       "prompt_number": 63,
       "text": [
        "4-element Array{Any,1}:\n",
        " false\n",
        " false\n",
        "  true\n",
        "  true"
       ]
      }
     ],
     "prompt_number": 63
    },
    {
     "cell_type": "code",
     "collapsed": false,
     "input": [
      "Y=[1900,1962,2000,2012]\n",
      "LY(x)= (mod(x,4)==0 && mod(x,100)!=0) || mod(x,400)==0  \n",
      "map(LY,Y)"
     ],
     "language": "python",
     "metadata": {},
     "outputs": [
      {
       "metadata": {},
       "output_type": "pyout",
       "prompt_number": 81,
       "text": [
        "4-element Array{Bool,1}:\n",
        " false\n",
        " false\n",
        "  true\n",
        "  true"
       ]
      }
     ],
     "prompt_number": 81
    },
    {
     "cell_type": "code",
     "collapsed": false,
     "input": [
      "# Dijkstra's Question \n",
      "M=[3 16 10 11;5 1 14 14;19 8 6 17;1 2 11 14; 1 8 2 9; 14 12 19 17]"
     ],
     "language": "python",
     "metadata": {},
     "outputs": [
      {
       "metadata": {},
       "output_type": "pyout",
       "prompt_number": 52,
       "text": [
        "6x4 Array{Int64,2}:\n",
        "  3  16  10  11\n",
        "  5   1  14  14\n",
        " 19   8   6  17\n",
        "  1   2  11  14\n",
        "  1   8   2   9\n",
        " 14  12  19  17"
       ]
      }
     ],
     "prompt_number": 52
    },
    {
     "cell_type": "code",
     "collapsed": false,
     "input": [
      "M[M.==\u2218(+,map(\u03b9,\u03c1(M))...)]"
     ],
     "language": "python",
     "metadata": {},
     "outputs": [
      {
       "metadata": {},
       "output_type": "pyout",
       "prompt_number": 53,
       "text": [
        "2-element Array{Int64,1}:\n",
        " 6\n",
        " 9"
       ]
      }
     ],
     "prompt_number": 53
    },
    {
     "cell_type": "code",
     "collapsed": false,
     "input": [
      "# Julia\n",
      "for i=1:6, j=1:4\n",
      "  if  M[i,j]==i+j println(M[i,j]) end\n",
      "end"
     ],
     "language": "python",
     "metadata": {},
     "outputs": [
      {
       "output_type": "stream",
       "stream": "stdout",
       "text": [
        "6\n",
        "9\n"
       ]
      }
     ],
     "prompt_number": 54
    },
    {
     "cell_type": "code",
     "collapsed": false,
     "input": [
      "# Getting Definitions Correct\n",
      "@show 0^0\n",
      "@show -8^(1/3)\n",
      "@show sum(\u03b9(0))\n",
      "@show prod(\u03b9(0));"
     ],
     "language": "python",
     "metadata": {},
     "outputs": [
      {
       "output_type": "stream",
       "stream": "stdout",
       "text": [
        "0^0 => 1\n",
        "-(8^(1 / 3)) => -2.0\n",
        "sum(\u03b9(0)) => 0\n",
        "prod(\u03b9(0)) => 1\n"
       ]
      }
     ],
     "prompt_number": 55
    },
    {
     "cell_type": "code",
     "collapsed": false,
     "input": [
      "\u2349(M)\n"
     ],
     "language": "python",
     "metadata": {},
     "outputs": [
      {
       "metadata": {},
       "output_type": "pyout",
       "prompt_number": 56,
       "text": [
        "4x6 Array{Int64,2}:\n",
        "  3   5  19   1  1  14\n",
        " 16   1   8   2  8  12\n",
        " 10  14   6  11  2  19\n",
        " 11  14  17  14  9  17"
       ]
      }
     ],
     "prompt_number": 56
    },
    {
     "cell_type": "code",
     "collapsed": false,
     "input": [
      "\u2349(M,[1,2])"
     ],
     "language": "python",
     "metadata": {},
     "outputs": [
      {
       "metadata": {},
       "output_type": "pyout",
       "prompt_number": 57,
       "text": [
        "6x4 Array{Int64,2}:\n",
        "  3  16  10  11\n",
        "  5   1  14  14\n",
        " 19   8   6  17\n",
        "  1   2  11  14\n",
        "  1   8   2   9\n",
        " 14  12  19  17"
       ]
      }
     ],
     "prompt_number": 57
    },
    {
     "cell_type": "code",
     "collapsed": false,
     "input": [
      "\u2349(M,[2,1])"
     ],
     "language": "python",
     "metadata": {},
     "outputs": [
      {
       "metadata": {},
       "output_type": "pyout",
       "prompt_number": 58,
       "text": [
        "4x6 Array{Int64,2}:\n",
        "  3   5  19   1  1  14\n",
        " 16   1   8   2  8  12\n",
        " 10  14   6  11  2  19\n",
        " 11  14  17  14  9  17"
       ]
      }
     ],
     "prompt_number": 58
    },
    {
     "cell_type": "code",
     "collapsed": false,
     "input": [
      "1+1"
     ],
     "language": "python",
     "metadata": {},
     "outputs": []
    },
    {
     "cell_type": "code",
     "collapsed": false,
     "input": [
      "1"
     ],
     "language": "python",
     "metadata": {},
     "outputs": [
      {
       "metadata": {},
       "output_type": "pyout",
       "prompt_number": 1,
       "text": [
        "1"
       ]
      }
     ],
     "prompt_number": 1
    },
    {
     "cell_type": "code",
     "collapsed": false,
     "input": [
      "1+1"
     ],
     "language": "python",
     "metadata": {},
     "outputs": [
      {
       "metadata": {},
       "output_type": "pyout",
       "prompt_number": 2,
       "text": [
        "2"
       ]
      }
     ],
     "prompt_number": 2
    },
    {
     "cell_type": "code",
     "collapsed": false,
     "input": [
      "\u03b9(V,W)=[v\u2208W ? findfirst(W,v) : 1+length(W) for v in V] "
     ],
     "language": "python",
     "metadata": {},
     "outputs": []
    },
    {
     "cell_type": "code",
     "collapsed": false,
     "input": [
      "methods(unique)"
     ],
     "language": "python",
     "metadata": {},
     "outputs": [
      {
       "html": [
        "11 methods for generic function <b>unique</b>:<ul><li> unique<i>{T}</i>(da::<b>DataArray{T,N}</b>) at <a href=\"https://github.com/JuliaStats/DataArrays.jl/tree/3a8cad5d068d95df33c4d5e33e01e865281b8b06/src/dataarray.jl#L735\" target=\"_blank\">/home/juser/.julia/v0.3/DataArrays/src/dataarray.jl:735</a><li> unique<i>{T}</i>(pda::<b>PooledDataArray{T,R<:Integer,N}</b>) at <a href=\"https://github.com/JuliaStats/DataArrays.jl/tree/3a8cad5d068d95df33c4d5e33e01e865281b8b06/src/pooleddataarray.jl#L288\" target=\"_blank\">/home/juser/.julia/v0.3/DataArrays/src/pooleddataarray.jl:288</a><li> unique(v::<b>RepeatedVector{T}</b>) at <a href=\"https://github.com/JuliaStats/DataFrames.jl/tree/dbdb59ac5f3ef428c7e7521e23d46452d340995d/src/abstractdataframe/reshape.jl#L216\" target=\"_blank\">/home/juser/.julia/v0.3/DataFrames/src/abstractdataframe/reshape.jl:216</a><li> unique(v::<b>EachRepeatedVector{T}</b>) at <a href=\"https://github.com/JuliaStats/DataFrames.jl/tree/dbdb59ac5f3ef428c7e7521e23d46452d340995d/src/abstractdataframe/reshape.jl#L240\" target=\"_blank\">/home/juser/.julia/v0.3/DataFrames/src/abstractdataframe/reshape.jl:240</a><li> unique<i>{T}</i>(A::<b>AbstractArray{T,1}</b>,dim::<b>Int64</b>) at <a href=\"https://github.com/JuliaLang/julia/tree/a05f87b79ad62beb033817fdfdefa270c9557aaf/base/multidimensional.jl#L525\" target=\"_blank\">multidimensional.jl:525</a><li> unique<i>{T}</i>(A::<b>AbstractArray{T,2}</b>,dim::<b>Int64</b>) at <a href=\"https://github.com/JuliaLang/julia/tree/a05f87b79ad62beb033817fdfdefa270c9557aaf/base/multidimensional.jl#L525\" target=\"_blank\">multidimensional.jl:525</a><li> unique<i>{T}</i>(A::<b>AbstractArray{T,3}</b>,dim::<b>Int64</b>) at <a href=\"https://github.com/JuliaLang/julia/tree/a05f87b79ad62beb033817fdfdefa270c9557aaf/base/multidimensional.jl#L525\" target=\"_blank\">multidimensional.jl:525</a><li> unique<i>{T}</i>(A::<b>AbstractArray{T,4}</b>,dim::<b>Int64</b>) at <a href=\"https://github.com/JuliaLang/julia/tree/a05f87b79ad62beb033817fdfdefa270c9557aaf/base/multidimensional.jl#L525\" target=\"_blank\">multidimensional.jl:525</a><li> unique<i>{T,N}</i>(A::<b>AbstractArray{T,N}</b>,dim::<b>Int64</b>) at <a href=\"https://github.com/JuliaLang/julia/tree/a05f87b79ad62beb033817fdfdefa270c9557aaf/base/cartesian.jl#L100\" target=\"_blank\">cartesian.jl:100</a><li> unique(df::<b>AbstractDataFrame</b>) at <a href=\"https://github.com/JuliaStats/DataFrames.jl/tree/dbdb59ac5f3ef428c7e7521e23d46452d340995d/src/abstractdataframe/abstractdataframe.jl#L267\" target=\"_blank\">/home/juser/.julia/v0.3/DataFrames/src/abstractdataframe/abstractdataframe.jl:267</a><li> unique(C) at <a href=\"https://github.com/JuliaLang/julia/tree/a05f87b79ad62beb033817fdfdefa270c9557aaf/base/set.jl#L99\" target=\"_blank\">set.jl:99</a></ul>"
       ],
       "metadata": {},
       "output_type": "pyout",
       "prompt_number": 2,
       "text": [
        "# 11 methods for generic function \"unique\":\n",
        "unique{T}(da::DataArray{T,N}) at /home/juser/.julia/v0.3/DataArrays/src/dataarray.jl:735\n",
        "unique{T}(pda::PooledDataArray{T,R<:Integer,N}) at /home/juser/.julia/v0.3/DataArrays/src/pooleddataarray.jl:288\n",
        "unique(v::RepeatedVector{T}) at /home/juser/.julia/v0.3/DataFrames/src/abstractdataframe/reshape.jl:216\n",
        "unique(v::EachRepeatedVector{T}) at /home/juser/.julia/v0.3/DataFrames/src/abstractdataframe/reshape.jl:240\n",
        "unique{T}(A::AbstractArray{T,1},dim::Int64) at multidimensional.jl:525\n",
        "unique{T}(A::AbstractArray{T,2},dim::Int64) at multidimensional.jl:525\n",
        "unique{T}(A::AbstractArray{T,3},dim::Int64) at multidimensional.jl:525\n",
        "unique{T}(A::AbstractArray{T,4},dim::Int64) at multidimensional.jl:525\n",
        "unique{T,N}(A::AbstractArray{T,N},dim::Int64) at cartesian.jl:100\n",
        "unique(df::AbstractDataFrame) at /home/juser/.julia/v0.3/DataFrames/src/abstractdataframe/abstractdataframe.jl:267\n",
        "unique(C) at set.jl:99"
       ]
      }
     ],
     "prompt_number": 2
    },
    {
     "cell_type": "code",
     "collapsed": false,
     "input": [],
     "language": "python",
     "metadata": {},
     "outputs": []
    }
   ],
   "metadata": {}
  }
 ]
}
